{
 "cells": [
  {
   "cell_type": "code",
   "execution_count": 0,
   "metadata": {
    "application/vnd.databricks.v1+cell": {
     "cellMetadata": {
      "byteLimit": 2048000,
      "rowLimit": 10000
     },
     "inputWidgets": {},
     "nuid": "0de893b3-cf26-4a00-97a6-6163cf678b58",
     "showTitle": false,
     "tableResultSettingsMap": {},
     "title": ""
    }
   },
   "outputs": [],
   "source": [
    "dbutils.notebook.help()"
   ]
  },
  {
   "cell_type": "code",
   "execution_count": 0,
   "metadata": {
    "application/vnd.databricks.v1+cell": {
     "cellMetadata": {
      "byteLimit": 2048000,
      "rowLimit": 10000
     },
     "inputWidgets": {},
     "nuid": "d6c108f2-faf7-41ab-80bd-a36b6b639af1",
     "showTitle": false,
     "tableResultSettingsMap": {},
     "title": ""
    }
   },
   "outputs": [],
   "source": [
    "status = dbutils.notebook.run(\"1. ingest_circuits_file\", 0, {\"p_data_source\": \"Ergast API\"})\n",
    "status = dbutils.notebook.run(\"2. ingest_races_file\", 0, {\"p_data_source\": \"Ergast API\"})\n",
    "status = dbutils.notebook.run(\"3. ingest_constructor_file\", 0, {\"p_data_source\": \"Ergast API\"})\n",
    "status = dbutils.notebook.run(\"4. ingest_drivers_file\", 0, {\"p_data_source\": \"Ergast API\"})     \n",
    "status = dbutils.notebook.run(\"5. ingest_results_file\", 0, {\"p_data_source\": \"Ergast API\"})\n",
    "status = dbutils.notebook.run(\"6. ingestion_pitstops_file\", 0, {\"p_data_source\": \"Ergast API\"})\n",
    "status = dbutils.notebook.run(\"7. ingest_laptimes_file\", 0, {\"p_data_source\": \"Ergast API\"})  \n",
    "status = dbutils.notebook.run(\"8. ingest_qualifying_file\", 0, {\"p_data_source\": \"Ergast API\"})\n"
   ]
  }
 ],
 "metadata": {
  "application/vnd.databricks.v1+notebook": {
   "computePreferences": null,
   "dashboards": [],
   "environmentMetadata": {
    "base_environment": "",
    "environment_version": "2"
   },
   "inputWidgetPreferences": null,
   "language": "python",
   "notebookMetadata": {
    "pythonIndentUnit": 4
   },
   "notebookName": "0. ingest_all_the_files",
   "widgets": {}
  },
  "language_info": {
   "name": "python"
  }
 },
 "nbformat": 4,
 "nbformat_minor": 0
}
