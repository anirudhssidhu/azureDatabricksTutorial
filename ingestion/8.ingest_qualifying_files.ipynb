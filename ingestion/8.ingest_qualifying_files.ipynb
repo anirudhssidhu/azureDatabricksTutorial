{
 "cells": [
  {
   "cell_type": "markdown",
   "metadata": {
    "application/vnd.databricks.v1+cell": {
     "cellMetadata": {},
     "inputWidgets": {},
     "nuid": "eb10feeb-74af-4a06-ae97-7397f9319429",
     "showTitle": false,
     "tableResultSettingsMap": {},
     "title": ""
    }
   },
   "source": [
    "## Ingest 2 json files in the qualifying folder"
   ]
  },
  {
   "cell_type": "code",
   "execution_count": 0,
   "metadata": {
    "application/vnd.databricks.v1+cell": {
     "cellMetadata": {},
     "inputWidgets": {},
     "nuid": "20326c76-1234-4814-af67-985d748b10dd",
     "showTitle": false,
     "tableResultSettingsMap": {},
     "title": ""
    }
   },
   "outputs": [],
   "source": []
  },
  {
   "cell_type": "code",
   "execution_count": 0,
   "metadata": {
    "application/vnd.databricks.v1+cell": {
     "cellMetadata": {
      "byteLimit": 2048000,
      "rowLimit": 10000
     },
     "inputWidgets": {},
     "nuid": "e6d6df10-3da1-43c3-aa8e-a3cc959d5f90",
     "showTitle": false,
     "tableResultSettingsMap": {},
     "title": ""
    }
   },
   "outputs": [],
   "source": [
    "display(dbutils.fs.ls('/mnt/formulaf1adls/raw/qualifying'))"
   ]
  },
  {
   "cell_type": "code",
   "execution_count": 0,
   "metadata": {
    "application/vnd.databricks.v1+cell": {
     "cellMetadata": {
      "byteLimit": 2048000,
      "rowLimit": 10000
     },
     "inputWidgets": {},
     "nuid": "c6d2b0ee-b4c0-4053-91a0-4499102771f8",
     "showTitle": false,
     "tableResultSettingsMap": {},
     "title": ""
    }
   },
   "outputs": [],
   "source": [
    "from pyspark.sql.types import StructType, StructField, IntegerType, StringType\n",
    "\n",
    "qualifying_schema = StructType(fields = [StructField('qualifyId', IntegerType(), False),\n",
    "                                         StructField('raceId', IntegerType(), True),\n",
    "                                         StructField('driverId', IntegerType(), True),\n",
    "                                         StructField('constructorId', IntegerType(), True),\n",
    "                                         StructField('number', IntegerType(), True),\n",
    "                                         StructField('position', IntegerType(), True),\n",
    "                                         StructField('q1', StringType(), True),\n",
    "                                         StructField('q2', StringType(), True),\n",
    "                                         StructField('q3', StringType(), True)\n",
    "                                         ])\n",
    "\n",
    "qualifying_df = spark.read \\\n",
    "    .schema(qualifying_schema) \\\n",
    "    .option('multiLine', True) \\\n",
    "    .json('/mnt/formulaf1adls/raw/qualifying/qualifying_split*.json')\n",
    "\n",
    "qualifying_df.limit(5).display()"
   ]
  },
  {
   "cell_type": "code",
   "execution_count": 0,
   "metadata": {
    "application/vnd.databricks.v1+cell": {
     "cellMetadata": {
      "byteLimit": 2048000,
      "rowLimit": 10000
     },
     "inputWidgets": {},
     "nuid": "8ba3fad4-08bf-4f5c-be52-8831ac4f24f0",
     "showTitle": false,
     "tableResultSettingsMap": {},
     "title": ""
    }
   },
   "outputs": [],
   "source": [
    "display(qualifying_df.count())"
   ]
  },
  {
   "cell_type": "code",
   "execution_count": 0,
   "metadata": {
    "application/vnd.databricks.v1+cell": {
     "cellMetadata": {
      "byteLimit": 2048000,
      "rowLimit": 10000
     },
     "inputWidgets": {},
     "nuid": "217dfec9-6325-4eb6-ae8b-0af5462e549a",
     "showTitle": false,
     "tableResultSettingsMap": {},
     "title": ""
    }
   },
   "outputs": [],
   "source": [
    "from pyspark.sql.functions import col, current_timestamp\n",
    "\n",
    "qualifying_final_df = qualifying_df.withColumnRenamed('qualifyId', 'qualify_id') \\\n",
    "                                    .withColumnRenamed('raceId', 'race_id') \\\n",
    "                                    .withColumnRenamed('driverId', 'driver_id') \\\n",
    "                                    .withColumnRenamed('constructorId', 'constructor_id') \\\n",
    "                                    .withColumn('ingestion_date', current_timestamp())\n",
    "\n",
    "qualifying_final_df.write.mode('overwrite').parquet('/mnt/formulaf1adls/processed/qualifying')"
   ]
  },
  {
   "cell_type": "code",
   "execution_count": 0,
   "metadata": {
    "application/vnd.databricks.v1+cell": {
     "cellMetadata": {
      "byteLimit": 2048000,
      "rowLimit": 10000
     },
     "inputWidgets": {},
     "nuid": "5a57bd2a-cad2-4272-977d-e3ff1e0f852f",
     "showTitle": false,
     "tableResultSettingsMap": {},
     "title": ""
    }
   },
   "outputs": [],
   "source": [
    "display(spark.read.parquet('/mnt/formulaf1adls/processed/qualifying'))"
   ]
  },
  {
   "cell_type": "code",
   "execution_count": 0,
   "metadata": {
    "application/vnd.databricks.v1+cell": {
     "cellMetadata": {},
     "inputWidgets": {},
     "nuid": "2bd88fe7-d9d3-4fbb-b572-129057a6ee84",
     "showTitle": false,
     "tableResultSettingsMap": {},
     "title": ""
    }
   },
   "outputs": [],
   "source": []
  }
 ],
 "metadata": {
  "application/vnd.databricks.v1+notebook": {
   "computePreferences": null,
   "dashboards": [],
   "environmentMetadata": {
    "base_environment": "",
    "environment_version": "2"
   },
   "inputWidgetPreferences": null,
   "language": "python",
   "notebookMetadata": {
    "pythonIndentUnit": 4
   },
   "notebookName": "8.ingest_qualifying_files",
   "widgets": {}
  },
  "language_info": {
   "name": "python"
  }
 },
 "nbformat": 4,
 "nbformat_minor": 0
}
